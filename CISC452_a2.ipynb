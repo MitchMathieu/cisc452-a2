{
  "nbformat": 4,
  "nbformat_minor": 0,
  "metadata": {
    "colab": {
      "name": "CISC452_a2.ipynb",
      "provenance": [],
      "collapsed_sections": []
    },
    "kernelspec": {
      "name": "python3",
      "display_name": "Python 3"
    }
  },
  "cells": [
    {
      "cell_type": "markdown",
      "metadata": {
        "id": "xcCS_mArppqG",
        "colab_type": "text"
      },
      "source": [
        "### CISC 452 Assignment 2"
      ]
    },
    {
      "cell_type": "markdown",
      "metadata": {
        "id": "-4-vEmAsME8n",
        "colab_type": "text"
      },
      "source": [
        "### Imports"
      ]
    },
    {
      "cell_type": "code",
      "metadata": {
        "id": "k9s2X8n5py-_",
        "colab_type": "code",
        "colab": {}
      },
      "source": [
        "import tensorflow as tf\n",
        "import numpy as np\n",
        "from tqdm import tqdm\n",
        "\n",
        "from random import random\n",
        "from math import exp\n",
        "from sklearn.preprocessing import normalize\n",
        "from sklearn.metrics import confusion_matrix, precision_score, recall_score"
      ],
      "execution_count": 0,
      "outputs": []
    },
    {
      "cell_type": "markdown",
      "metadata": {
        "id": "YLfHjgr-K1VK",
        "colab_type": "text"
      },
      "source": [
        "### Get the Data"
      ]
    },
    {
      "cell_type": "code",
      "metadata": {
        "id": "PT4TKuxKvqog",
        "colab_type": "code",
        "colab": {
          "base_uri": "https://localhost:8080/",
          "height": 50
        },
        "outputId": "9dd191dd-ecf9-4049-83fe-7b5f1bd273d6"
      },
      "source": [
        "(train_x, train_y), (test_x, test_y) = tf.keras.datasets.mnist.load_data()\n",
        "\n",
        "def normalize(x):\n",
        "    return x / 255.\n",
        "\n",
        "def flatten(x):\n",
        "    return x.reshape(-1, np.prod(x.shape[1:]))\n",
        "\n",
        "def preprocess(x):\n",
        "    return normalize(flatten(x))\n",
        "\n",
        "\n",
        "train_x = preprocess(train_x)\n",
        "test_x = preprocess(test_x)"
      ],
      "execution_count": 3,
      "outputs": [
        {
          "output_type": "stream",
          "text": [
            "Downloading data from https://storage.googleapis.com/tensorflow/tf-keras-datasets/mnist.npz\n",
            "11493376/11490434 [==============================] - 0s 0us/step\n"
          ],
          "name": "stdout"
        }
      ]
    },
    {
      "cell_type": "code",
      "metadata": {
        "id": "U-QoW1tPeVEg",
        "colab_type": "code",
        "colab": {
          "base_uri": "https://localhost:8080/",
          "height": 34
        },
        "outputId": "fdd03ba2-22ac-4d61-80b0-859da79ff590"
      },
      "source": [
        "output_file = open(\"output_file.txt\", 'w')\n",
        "output_file.write(\"\"\"********************\n",
        "Mitch Mathieu\n",
        "10157108\n",
        "CISC 452\n",
        "Assignment 2\n",
        "********************\\n\\n\"\"\")"
      ],
      "execution_count": 4,
      "outputs": [
        {
          "output_type": "execute_result",
          "data": {
            "text/plain": [
              "88"
            ]
          },
          "metadata": {
            "tags": []
          },
          "execution_count": 4
        }
      ]
    },
    {
      "cell_type": "markdown",
      "metadata": {
        "id": "OmQkm132Yxex",
        "colab_type": "text"
      },
      "source": [
        "## The Network"
      ]
    },
    {
      "cell_type": "code",
      "metadata": {
        "id": "HrbcllbTj34K",
        "colab_type": "code",
        "colab": {}
      },
      "source": [
        "class Network:\n",
        "  def __init__(self, epochs, l_rate, momentum, num_inputs, num_hidden, num_outputs):\n",
        "    self.epochs = epochs\n",
        "    self.learning_rate = l_rate\n",
        "    self.momentum = momentum\n",
        "    self.num_outputs = num_outputs\n",
        "    output_file.write(f\"Number of inputs: {num_inputs}\\n\")\n",
        "    output_file.write(f\"Number of hidden nodes: {num_hidden}\\n\")\n",
        "    output_file.write(f\"Number of output nodes: {num_outputs}\\n\")\n",
        "    # the network is a list of lists of dictionaries\n",
        "    # a list of dictionaries represents a layer\n",
        "    # a dictionary represents a neuron\n",
        "    self.network = []\n",
        "    hidden_layer = [{'weights': [random() for i in range(num_inputs + 1)]} for i in range(num_hidden)]\n",
        "    self.network.append(hidden_layer)\n",
        "    output_layer = [{'weights': [random() for i in range(num_hidden + 1)]} for i in range(num_outputs)]\n",
        "    self.network.append(output_layer)\n",
        "  \n",
        "  \n",
        "  # determine the activation of the neuron\n",
        "  def activate(self, weights, inputs):\n",
        "    activation = weights[-1]\n",
        "    for i in range(len(weights)-1):\n",
        "      activation += weights[i] * inputs[i]\n",
        "    return activation\n",
        "  \n",
        "  \n",
        "  # sigmoid function\n",
        "  def sigmoid(self, activation):\n",
        "    return 1.0 / (1 + exp(-activation))\n",
        "  \n",
        "  \n",
        "  # derivative of sigmoid function\n",
        "  def sigmoid_derivative(self, output):\n",
        "    return output * (1 - output)\n",
        "  \n",
        "  \n",
        "  # use momentum and the deltas to update the weights\n",
        "  def update_weights(self, row): \n",
        "    # row is a set of inputs\n",
        "    for i in range(len(self.network)):\n",
        "      inputs = row[:-1]\n",
        "      if i != 0:\n",
        "        inputs = [neuron['output'] for neuron in self.network[i - 1]]\n",
        "      for neuron in self.network[i]:\n",
        "        for j in range(len(inputs)):\n",
        "          neuron['weights'][j] += self.learning_rate * neuron['delta'] * inputs[j]\n",
        "          if 'previous delta' in neuron:\n",
        "            neuron['weights'][j] += (self.momentum * neuron['previous delta'])\n",
        "        neuron['weights'][-1] += self.learning_rate * neuron['delta']\n",
        "  \n",
        "  \n",
        "  # work back from the output layer and assign errors and deltas\n",
        "  def backward_propagation(self, expected):\n",
        "    for i in reversed(range(len(self.network))):\n",
        "      layer = self.network[i]\n",
        "      errors = []\n",
        "      # check if hidden layer\n",
        "      if i != len(self.network) - 1:\n",
        "        for j in range(len(layer)):\n",
        "          error = 0.0\n",
        "          for neuron in self.network[i + 1]:\n",
        "            error += (neuron['weights'][j] * neuron['delta'])\n",
        "          errors.append(error)\n",
        "      # output layer\n",
        "      else:\n",
        "        for j in range(len(layer)):\n",
        "          neuron = layer[j]\n",
        "          errors.append(expected[j] - neuron['output'])\n",
        "          \n",
        "      for j in range(len(layer)):\n",
        "        # add deltas to each neuron in current layer\n",
        "        neuron = layer[j]\n",
        "        if 'delta' in neuron:\n",
        "            neuron['previous delta'] = neuron['delta']\n",
        "        neuron['delta'] = errors[j] * self.sigmoid_derivative(neuron['output'])\n",
        "  \n",
        "  \n",
        "  # use the current weights and input to determine output\n",
        "  def forward_propagation(self, row):\n",
        "    inputs = row\n",
        "    for layer in self.network:\n",
        "      new_inputs = []\n",
        "      for neuron in layer:\n",
        "        activation = self.activate(neuron['weights'], inputs)\n",
        "        neuron['output'] = self.sigmoid(activation)\n",
        "        new_inputs.append(neuron['output'])\n",
        "      inputs = new_inputs\n",
        "    return inputs\n",
        "  \n",
        "  \n",
        "  def train(self, train_x, train_y):\n",
        "    for epoch in range(self.epochs):\n",
        "      count = 0\n",
        "      \n",
        "      print(\"**********************\")\n",
        "      print(f\"Starting epoch {epoch+1}\")\n",
        "      print(\"**********************\")\n",
        "      \n",
        "      sum_error = 0\n",
        "      for row, label in zip(train_x, train_y):\n",
        "        outputs = self.forward_propagation(row)\n",
        "        expected = label\n",
        "        sum_error += sum([(expected[i] - outputs[i])**2 for i in range(expected.size)])\n",
        "        self.backward_propagation(expected)\n",
        "        self.update_weights(row)\n",
        "        \n",
        "        count += 1\n",
        "        if count % 10000 == 0:\n",
        "          print(count)\n",
        "          \n",
        "      print(f\">epoch={epoch+1} error={sum_error:.3f}\")\n",
        "      \n",
        "  \n",
        "  def predict(self, row):\n",
        "    outputs = self.forward_propagation(row)\n",
        "    index = outputs.index(max(outputs))\n",
        "    result = [0 for i in range(self.num_outputs)]\n",
        "    result[index] = 1\n",
        "    return result\n",
        "  \n",
        "  \n",
        "  def vec_to_cat(self, vec):\n",
        "    for i in range(len(vec)):\n",
        "      if vec[i] == 1:\n",
        "        return i\n",
        "      \n",
        "      \n",
        "  def test(self, test_x, test_y):\n",
        "    correct = 0\n",
        "    predictions = []\n",
        "    for row, label in zip(test_x, test_y):\n",
        "      prediction = self.predict(row)\n",
        "      predictions.append(self.vec_to_cat(prediction))\n",
        "      if np.array_equal(prediction, label):\n",
        "        correct += 1\n",
        "    \n",
        "    print(f\"\\nAccuracy: {correct/test_x.size:.4f}%\")\n",
        "    return predictions"
      ],
      "execution_count": 0,
      "outputs": []
    },
    {
      "cell_type": "markdown",
      "metadata": {
        "id": "0hT_gusaIyGE",
        "colab_type": "text"
      },
      "source": [
        "### Instantiate and Train the Network"
      ]
    },
    {
      "cell_type": "code",
      "metadata": {
        "id": "wiGlF1O2Ixl-",
        "colab_type": "code",
        "colab": {
          "base_uri": "https://localhost:8080/",
          "height": 521
        },
        "outputId": "4e3d2800-6fc5-41eb-ef29-2bb9c82ab3da"
      },
      "source": [
        "# params: epochs, l_rate, momentum, num_inputs, num_hidden, num_outputs\n",
        "nn = Network(3, 0.5, 0.5, 784, 5, 10)\n",
        "\n",
        "train_y_enc = np.zeros((train_y.size, train_y.max()+1))\n",
        "train_y_enc[np.arange(train_y.size), train_y] = 1\n",
        "\n",
        "nn.train(train_x, train_y_enc)"
      ],
      "execution_count": 7,
      "outputs": [
        {
          "output_type": "stream",
          "text": [
            "**********************\n",
            "Starting epoch 1\n",
            "**********************\n",
            "10000\n",
            "20000\n",
            "30000\n",
            "40000\n",
            "50000\n",
            "60000\n",
            ">epoch=1 error=55193.294\n",
            "**********************\n",
            "Starting epoch 2\n",
            "**********************\n",
            "10000\n",
            "20000\n",
            "30000\n",
            "40000\n",
            "50000\n",
            "60000\n",
            ">epoch=2 error=55123.883\n",
            "**********************\n",
            "Starting epoch 3\n",
            "**********************\n",
            "10000\n",
            "20000\n",
            "30000\n",
            "40000\n",
            "50000\n",
            "60000\n",
            ">epoch=3 error=55123.883\n"
          ],
          "name": "stdout"
        }
      ]
    },
    {
      "cell_type": "code",
      "metadata": {
        "id": "_kzsVnXGJ1oZ",
        "colab_type": "code",
        "colab": {
          "base_uri": "https://localhost:8080/",
          "height": 50
        },
        "outputId": "5d0d99f5-adad-4c08-94aa-45597740c697"
      },
      "source": [
        "test_y_enc = np.zeros((test_y.size, test_y.max()+1))\n",
        "test_y_enc[np.arange(test_y.size), test_y] = 1\n",
        "\n",
        "predictions = nn.test(test_x, test_y_enc)"
      ],
      "execution_count": 8,
      "outputs": [
        {
          "output_type": "stream",
          "text": [
            "\n",
            "Accuracy: 0.0001%\n"
          ],
          "name": "stdout"
        }
      ]
    },
    {
      "cell_type": "code",
      "metadata": {
        "id": "TNE1KTPocS6D",
        "colab_type": "code",
        "colab": {
          "base_uri": "https://localhost:8080/",
          "height": 34
        },
        "outputId": "1d24635c-4e1d-434b-b1fb-119c629337ec"
      },
      "source": [
        "cm = confusion_matrix(test_y, \n",
        "                      predictions, \n",
        "                      labels=[0, 1, 2, 3, 4, 5, 6, 7, 8, 9])\n",
        "\n",
        "precision = precision_score(test_y, \n",
        "                            predictions, \n",
        "                            labels=[0, 1, 2, 3, 4, 5, 6, 7, 8, 9], \n",
        "                            average='micro')\n",
        "\n",
        "recall = recall_score(test_y, \n",
        "                      predictions, \n",
        "                      labels=[0, 1, 2, 3, 4, 5, 6, 7, 8, 9], \n",
        "                      average='micro')\n",
        "# print(cm)\n",
        "# print(f\"Precision: {precision:.4f}\")\n",
        "# print(f\"Recall: {recall:.4f}\")\n",
        "\n",
        "output_file.write(\"\\n\\nResults:\\n\")\n",
        "output_file.write(\"Confusion Matrix:\\n\")\n",
        "output_file.write(f\"{cm}\\n\\n\")\n",
        "output_file.write(f\"Precision: {precision:.4f}\\n\")\n",
        "output_file.write(f\"Recall: {recall:.4f}\\n\")"
      ],
      "execution_count": 9,
      "outputs": [
        {
          "output_type": "execute_result",
          "data": {
            "text/plain": [
              "15"
            ]
          },
          "metadata": {
            "tags": []
          },
          "execution_count": 9
        }
      ]
    },
    {
      "cell_type": "code",
      "metadata": {
        "id": "flLihY8sgW7o",
        "colab_type": "code",
        "colab": {}
      },
      "source": [
        "output_file.close()"
      ],
      "execution_count": 0,
      "outputs": []
    },
    {
      "cell_type": "code",
      "metadata": {
        "id": "pdZNP8lGgb5s",
        "colab_type": "code",
        "colab": {
          "base_uri": "https://localhost:8080/",
          "height": 470
        },
        "outputId": "673e4b59-89a5-45a6-f354-feb178fc5bcc"
      },
      "source": [
        "! cat output_file.txt"
      ],
      "execution_count": 13,
      "outputs": [
        {
          "output_type": "stream",
          "text": [
            "********************\n",
            "Mitch Mathieu\n",
            "10157108\n",
            "CISC 452\n",
            "Assignment 2\n",
            "********************\n",
            "\n",
            "Number of inputs: 784\n",
            "Number of hidden nodes: 5\n",
            "Number of output nodes: 10\n",
            "\n",
            "\n",
            "Results:\n",
            "Confusion Matrix:\n",
            "[[   0    0    0    0    0    0  980    0    0    0]\n",
            " [   0    0    0    0    0    0 1135    0    0    0]\n",
            " [   0    0    0    0    0    0 1032    0    0    0]\n",
            " [   0    0    0    0    0    0 1010    0    0    0]\n",
            " [   0    0    0    0    0    0  982    0    0    0]\n",
            " [   0    0    0    0    0    0  892    0    0    0]\n",
            " [   0    0    0    0    0    0  958    0    0    0]\n",
            " [   0    0    0    0    0    0 1028    0    0    0]\n",
            " [   0    0    0    0    0    0  974    0    0    0]\n",
            " [   0    0    0    0    0    0 1009    0    0    0]]\n",
            "\n",
            "Precision: 0.0958\n",
            "Recall: 0.0958\n"
          ],
          "name": "stdout"
        }
      ]
    },
    {
      "cell_type": "code",
      "metadata": {
        "id": "xj0q2UMnbXY1",
        "colab_type": "code",
        "colab": {}
      },
      "source": [
        "from google.colab import files\n",
        "files.download('output_file.txt')"
      ],
      "execution_count": 0,
      "outputs": []
    },
    {
      "cell_type": "code",
      "metadata": {
        "id": "2CrjVcNKUpwW",
        "colab_type": "code",
        "colab": {}
      },
      "source": [
        ""
      ],
      "execution_count": 0,
      "outputs": []
    }
  ]
}